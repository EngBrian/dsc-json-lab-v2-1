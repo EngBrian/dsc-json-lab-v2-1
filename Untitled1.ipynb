{
 "cells": [
  {
   "cell_type": "code",
   "execution_count": 6,
   "metadata": {},
   "outputs": [
    {
     "name": "stderr",
     "output_type": "stream",
     "text": [
      "b'Skipping line 156: expected 8 fields, saw 9\\nSkipping line 157: expected 8 fields, saw 9\\nSkipping line 158: expected 8 fields, saw 9\\nSkipping line 317: expected 8 fields, saw 9\\nSkipping line 318: expected 8 fields, saw 9\\nSkipping line 319: expected 8 fields, saw 9\\nSkipping line 1658: expected 8 fields, saw 9\\nSkipping line 1659: expected 8 fields, saw 9\\nSkipping line 1660: expected 8 fields, saw 9\\nSkipping line 1784: expected 8 fields, saw 9\\nSkipping line 1785: expected 8 fields, saw 9\\nSkipping line 1786: expected 8 fields, saw 9\\n'\n"
     ]
    },
    {
     "data": {
      "text/html": [
       "<div>\n",
       "<style scoped>\n",
       "    .dataframe tbody tr th:only-of-type {\n",
       "        vertical-align: middle;\n",
       "    }\n",
       "\n",
       "    .dataframe tbody tr th {\n",
       "        vertical-align: top;\n",
       "    }\n",
       "\n",
       "    .dataframe thead th {\n",
       "        text-align: right;\n",
       "    }\n",
       "</style>\n",
       "<table border=\"1\" class=\"dataframe\">\n",
       "  <thead>\n",
       "    <tr style=\"text-align: right;\">\n",
       "      <th></th>\n",
       "      <th>Gender</th>\n",
       "      <th>Event</th>\n",
       "      <th>Location</th>\n",
       "      <th>Year</th>\n",
       "      <th>Medal</th>\n",
       "      <th>Name</th>\n",
       "      <th>Nationality</th>\n",
       "      <th>Result</th>\n",
       "    </tr>\n",
       "  </thead>\n",
       "  <tbody>\n",
       "    <tr>\n",
       "      <th>0</th>\n",
       "      <td>M</td>\n",
       "      <td>10000M Men</td>\n",
       "      <td>Rio</td>\n",
       "      <td>2016</td>\n",
       "      <td>G</td>\n",
       "      <td>Mohamed FARAH</td>\n",
       "      <td>USA</td>\n",
       "      <td>25:05.17</td>\n",
       "    </tr>\n",
       "    <tr>\n",
       "      <th>1</th>\n",
       "      <td>M</td>\n",
       "      <td>10000M Men</td>\n",
       "      <td>Rio</td>\n",
       "      <td>2016</td>\n",
       "      <td>S</td>\n",
       "      <td>Paul Kipngetich TANUI</td>\n",
       "      <td>KEN</td>\n",
       "      <td>27:05.64</td>\n",
       "    </tr>\n",
       "    <tr>\n",
       "      <th>2</th>\n",
       "      <td>M</td>\n",
       "      <td>10000M Men</td>\n",
       "      <td>Rio</td>\n",
       "      <td>2016</td>\n",
       "      <td>B</td>\n",
       "      <td>Tamirat TOLA</td>\n",
       "      <td>ETH</td>\n",
       "      <td>27:06.26</td>\n",
       "    </tr>\n",
       "    <tr>\n",
       "      <th>3</th>\n",
       "      <td>M</td>\n",
       "      <td>10000M Men</td>\n",
       "      <td>Beijing</td>\n",
       "      <td>2008</td>\n",
       "      <td>G</td>\n",
       "      <td>Kenenisa BEKELE</td>\n",
       "      <td>ETH</td>\n",
       "      <td>27:01.17</td>\n",
       "    </tr>\n",
       "    <tr>\n",
       "      <th>4</th>\n",
       "      <td>M</td>\n",
       "      <td>10000M Men</td>\n",
       "      <td>Beijing</td>\n",
       "      <td>2008</td>\n",
       "      <td>S</td>\n",
       "      <td>Sileshi SIHINE</td>\n",
       "      <td>ETH</td>\n",
       "      <td>27:02.77</td>\n",
       "    </tr>\n",
       "    <tr>\n",
       "      <th>...</th>\n",
       "      <td>...</td>\n",
       "      <td>...</td>\n",
       "      <td>...</td>\n",
       "      <td>...</td>\n",
       "      <td>...</td>\n",
       "      <td>...</td>\n",
       "      <td>...</td>\n",
       "      <td>...</td>\n",
       "    </tr>\n",
       "    <tr>\n",
       "      <th>2377</th>\n",
       "      <td>W</td>\n",
       "      <td>Triple Jump Women</td>\n",
       "      <td>Athens</td>\n",
       "      <td>2004</td>\n",
       "      <td>S</td>\n",
       "      <td>Hrysopiyi DEVETZI</td>\n",
       "      <td>GRE</td>\n",
       "      <td>15.25</td>\n",
       "    </tr>\n",
       "    <tr>\n",
       "      <th>2378</th>\n",
       "      <td>W</td>\n",
       "      <td>Triple Jump Women</td>\n",
       "      <td>Athens</td>\n",
       "      <td>2004</td>\n",
       "      <td>B</td>\n",
       "      <td>Tatyana LEBEDEVA</td>\n",
       "      <td>RUS</td>\n",
       "      <td>15.14</td>\n",
       "    </tr>\n",
       "    <tr>\n",
       "      <th>2379</th>\n",
       "      <td>W</td>\n",
       "      <td>Triple Jump Women</td>\n",
       "      <td>Atlanta</td>\n",
       "      <td>1996</td>\n",
       "      <td>G</td>\n",
       "      <td>Inessa KRAVETS</td>\n",
       "      <td>UKR</td>\n",
       "      <td>15.33</td>\n",
       "    </tr>\n",
       "    <tr>\n",
       "      <th>2380</th>\n",
       "      <td>W</td>\n",
       "      <td>Triple Jump Women</td>\n",
       "      <td>Atlanta</td>\n",
       "      <td>1996</td>\n",
       "      <td>S</td>\n",
       "      <td>Inna LASOVSKAYA</td>\n",
       "      <td>RUS</td>\n",
       "      <td>14.98</td>\n",
       "    </tr>\n",
       "    <tr>\n",
       "      <th>2381</th>\n",
       "      <td>W</td>\n",
       "      <td>Triple Jump Women</td>\n",
       "      <td>Atlanta</td>\n",
       "      <td>1996</td>\n",
       "      <td>B</td>\n",
       "      <td>Sarka KASPARKOVA</td>\n",
       "      <td>CZE</td>\n",
       "      <td>14.98</td>\n",
       "    </tr>\n",
       "  </tbody>\n",
       "</table>\n",
       "<p>2382 rows × 8 columns</p>\n",
       "</div>"
      ],
      "text/plain": [
       "     Gender              Event Location  Year Medal                   Name  \\\n",
       "0         M         10000M Men      Rio  2016     G          Mohamed FARAH   \n",
       "1         M         10000M Men      Rio  2016     S  Paul Kipngetich TANUI   \n",
       "2         M         10000M Men      Rio  2016     B           Tamirat TOLA   \n",
       "3         M         10000M Men  Beijing  2008     G        Kenenisa BEKELE   \n",
       "4         M         10000M Men  Beijing  2008     S         Sileshi SIHINE   \n",
       "...     ...                ...      ...   ...   ...                    ...   \n",
       "2377      W  Triple Jump Women   Athens  2004     S      Hrysopiyi DEVETZI   \n",
       "2378      W  Triple Jump Women   Athens  2004     B       Tatyana LEBEDEVA   \n",
       "2379      W  Triple Jump Women  Atlanta  1996     G         Inessa KRAVETS   \n",
       "2380      W  Triple Jump Women  Atlanta  1996     S        Inna LASOVSKAYA   \n",
       "2381      W  Triple Jump Women  Atlanta  1996     B       Sarka KASPARKOVA   \n",
       "\n",
       "     Nationality    Result  \n",
       "0            USA  25:05.17  \n",
       "1            KEN  27:05.64  \n",
       "2            ETH  27:06.26  \n",
       "3            ETH  27:01.17  \n",
       "4            ETH  27:02.77  \n",
       "...          ...       ...  \n",
       "2377         GRE     15.25  \n",
       "2378         RUS     15.14  \n",
       "2379         UKR     15.33  \n",
       "2380         RUS     14.98  \n",
       "2381         CZE     14.98  \n",
       "\n",
       "[2382 rows x 8 columns]"
      ]
     },
     "execution_count": 6,
     "metadata": {},
     "output_type": "execute_result"
    }
   ],
   "source": [
    "import pandas as pd\n",
    "file_name = (r\"C:\\Users\\user\\Downloads\\results.csv\")\n",
    "df = pd.read_csv(file_name, error_bad_lines=False)\n",
    "df"
   ]
  },
  {
   "cell_type": "code",
   "execution_count": 7,
   "metadata": {},
   "outputs": [
    {
     "data": {
      "text/plain": [
       "pandas.core.frame.DataFrame"
      ]
     },
     "execution_count": 7,
     "metadata": {},
     "output_type": "execute_result"
    }
   ],
   "source": [
    "type(df)"
   ]
  },
  {
   "cell_type": "code",
   "execution_count": 8,
   "metadata": {},
   "outputs": [
    {
     "data": {
      "text/html": [
       "<div>\n",
       "<style scoped>\n",
       "    .dataframe tbody tr th:only-of-type {\n",
       "        vertical-align: middle;\n",
       "    }\n",
       "\n",
       "    .dataframe tbody tr th {\n",
       "        vertical-align: top;\n",
       "    }\n",
       "\n",
       "    .dataframe thead th {\n",
       "        text-align: right;\n",
       "    }\n",
       "</style>\n",
       "<table border=\"1\" class=\"dataframe\">\n",
       "  <thead>\n",
       "    <tr style=\"text-align: right;\">\n",
       "      <th></th>\n",
       "      <th>Gender</th>\n",
       "      <th>Event</th>\n",
       "      <th>Location</th>\n",
       "      <th>Year</th>\n",
       "      <th>Medal</th>\n",
       "      <th>Name</th>\n",
       "      <th>Nationality</th>\n",
       "      <th>Result</th>\n",
       "    </tr>\n",
       "  </thead>\n",
       "  <tbody>\n",
       "    <tr>\n",
       "      <th>0</th>\n",
       "      <td>M</td>\n",
       "      <td>10000M Men</td>\n",
       "      <td>Rio</td>\n",
       "      <td>2016</td>\n",
       "      <td>G</td>\n",
       "      <td>Mohamed FARAH</td>\n",
       "      <td>USA</td>\n",
       "      <td>25:05.17</td>\n",
       "    </tr>\n",
       "    <tr>\n",
       "      <th>1</th>\n",
       "      <td>M</td>\n",
       "      <td>10000M Men</td>\n",
       "      <td>Rio</td>\n",
       "      <td>2016</td>\n",
       "      <td>S</td>\n",
       "      <td>Paul Kipngetich TANUI</td>\n",
       "      <td>KEN</td>\n",
       "      <td>27:05.64</td>\n",
       "    </tr>\n",
       "    <tr>\n",
       "      <th>2</th>\n",
       "      <td>M</td>\n",
       "      <td>10000M Men</td>\n",
       "      <td>Rio</td>\n",
       "      <td>2016</td>\n",
       "      <td>B</td>\n",
       "      <td>Tamirat TOLA</td>\n",
       "      <td>ETH</td>\n",
       "      <td>27:06.26</td>\n",
       "    </tr>\n",
       "    <tr>\n",
       "      <th>3</th>\n",
       "      <td>M</td>\n",
       "      <td>10000M Men</td>\n",
       "      <td>Beijing</td>\n",
       "      <td>2008</td>\n",
       "      <td>G</td>\n",
       "      <td>Kenenisa BEKELE</td>\n",
       "      <td>ETH</td>\n",
       "      <td>27:01.17</td>\n",
       "    </tr>\n",
       "    <tr>\n",
       "      <th>4</th>\n",
       "      <td>M</td>\n",
       "      <td>10000M Men</td>\n",
       "      <td>Beijing</td>\n",
       "      <td>2008</td>\n",
       "      <td>S</td>\n",
       "      <td>Sileshi SIHINE</td>\n",
       "      <td>ETH</td>\n",
       "      <td>27:02.77</td>\n",
       "    </tr>\n",
       "  </tbody>\n",
       "</table>\n",
       "</div>"
      ],
      "text/plain": [
       "  Gender       Event Location  Year Medal                   Name Nationality  \\\n",
       "0      M  10000M Men      Rio  2016     G          Mohamed FARAH         USA   \n",
       "1      M  10000M Men      Rio  2016     S  Paul Kipngetich TANUI         KEN   \n",
       "2      M  10000M Men      Rio  2016     B           Tamirat TOLA         ETH   \n",
       "3      M  10000M Men  Beijing  2008     G        Kenenisa BEKELE         ETH   \n",
       "4      M  10000M Men  Beijing  2008     S         Sileshi SIHINE         ETH   \n",
       "\n",
       "     Result  \n",
       "0  25:05.17  \n",
       "1  27:05.64  \n",
       "2  27:06.26  \n",
       "3  27:01.17  \n",
       "4  27:02.77  "
      ]
     },
     "execution_count": 8,
     "metadata": {},
     "output_type": "execute_result"
    }
   ],
   "source": [
    "df.head()"
   ]
  },
  {
   "cell_type": "code",
   "execution_count": 9,
   "metadata": {},
   "outputs": [
    {
     "data": {
      "text/html": [
       "<div>\n",
       "<style scoped>\n",
       "    .dataframe tbody tr th:only-of-type {\n",
       "        vertical-align: middle;\n",
       "    }\n",
       "\n",
       "    .dataframe tbody tr th {\n",
       "        vertical-align: top;\n",
       "    }\n",
       "\n",
       "    .dataframe thead th {\n",
       "        text-align: right;\n",
       "    }\n",
       "</style>\n",
       "<table border=\"1\" class=\"dataframe\">\n",
       "  <thead>\n",
       "    <tr style=\"text-align: right;\">\n",
       "      <th></th>\n",
       "      <th>Gender</th>\n",
       "      <th>Event</th>\n",
       "      <th>Location</th>\n",
       "      <th>Year</th>\n",
       "      <th>Medal</th>\n",
       "      <th>Name</th>\n",
       "      <th>Nationality</th>\n",
       "      <th>Result</th>\n",
       "    </tr>\n",
       "  </thead>\n",
       "  <tbody>\n",
       "    <tr>\n",
       "      <th>2377</th>\n",
       "      <td>W</td>\n",
       "      <td>Triple Jump Women</td>\n",
       "      <td>Athens</td>\n",
       "      <td>2004</td>\n",
       "      <td>S</td>\n",
       "      <td>Hrysopiyi DEVETZI</td>\n",
       "      <td>GRE</td>\n",
       "      <td>15.25</td>\n",
       "    </tr>\n",
       "    <tr>\n",
       "      <th>2378</th>\n",
       "      <td>W</td>\n",
       "      <td>Triple Jump Women</td>\n",
       "      <td>Athens</td>\n",
       "      <td>2004</td>\n",
       "      <td>B</td>\n",
       "      <td>Tatyana LEBEDEVA</td>\n",
       "      <td>RUS</td>\n",
       "      <td>15.14</td>\n",
       "    </tr>\n",
       "    <tr>\n",
       "      <th>2379</th>\n",
       "      <td>W</td>\n",
       "      <td>Triple Jump Women</td>\n",
       "      <td>Atlanta</td>\n",
       "      <td>1996</td>\n",
       "      <td>G</td>\n",
       "      <td>Inessa KRAVETS</td>\n",
       "      <td>UKR</td>\n",
       "      <td>15.33</td>\n",
       "    </tr>\n",
       "    <tr>\n",
       "      <th>2380</th>\n",
       "      <td>W</td>\n",
       "      <td>Triple Jump Women</td>\n",
       "      <td>Atlanta</td>\n",
       "      <td>1996</td>\n",
       "      <td>S</td>\n",
       "      <td>Inna LASOVSKAYA</td>\n",
       "      <td>RUS</td>\n",
       "      <td>14.98</td>\n",
       "    </tr>\n",
       "    <tr>\n",
       "      <th>2381</th>\n",
       "      <td>W</td>\n",
       "      <td>Triple Jump Women</td>\n",
       "      <td>Atlanta</td>\n",
       "      <td>1996</td>\n",
       "      <td>B</td>\n",
       "      <td>Sarka KASPARKOVA</td>\n",
       "      <td>CZE</td>\n",
       "      <td>14.98</td>\n",
       "    </tr>\n",
       "  </tbody>\n",
       "</table>\n",
       "</div>"
      ],
      "text/plain": [
       "     Gender              Event Location  Year Medal               Name  \\\n",
       "2377      W  Triple Jump Women   Athens  2004     S  Hrysopiyi DEVETZI   \n",
       "2378      W  Triple Jump Women   Athens  2004     B   Tatyana LEBEDEVA   \n",
       "2379      W  Triple Jump Women  Atlanta  1996     G     Inessa KRAVETS   \n",
       "2380      W  Triple Jump Women  Atlanta  1996     S    Inna LASOVSKAYA   \n",
       "2381      W  Triple Jump Women  Atlanta  1996     B   Sarka KASPARKOVA   \n",
       "\n",
       "     Nationality Result  \n",
       "2377         GRE  15.25  \n",
       "2378         RUS  15.14  \n",
       "2379         UKR  15.33  \n",
       "2380         RUS  14.98  \n",
       "2381         CZE  14.98  "
      ]
     },
     "execution_count": 9,
     "metadata": {},
     "output_type": "execute_result"
    }
   ],
   "source": [
    "df.tail()"
   ]
  },
  {
   "cell_type": "code",
   "execution_count": 10,
   "metadata": {},
   "outputs": [
    {
     "data": {
      "text/plain": [
       "0       25:05.17\n",
       "1       27:05.64\n",
       "2       27:06.26\n",
       "3       27:01.17\n",
       "4       27:02.77\n",
       "          ...   \n",
       "2377       15.25\n",
       "2378       15.14\n",
       "2379       15.33\n",
       "2380       14.98\n",
       "2381       14.98\n",
       "Name: Result, Length: 2382, dtype: object"
      ]
     },
     "execution_count": 10,
     "metadata": {},
     "output_type": "execute_result"
    }
   ],
   "source": [
    "df['Result']"
   ]
  },
  {
   "cell_type": "code",
   "execution_count": 11,
   "metadata": {},
   "outputs": [
    {
     "data": {
      "text/plain": [
       "(2382, 8)"
      ]
     },
     "execution_count": 11,
     "metadata": {},
     "output_type": "execute_result"
    }
   ],
   "source": [
    "df.shape"
   ]
  },
  {
   "cell_type": "code",
   "execution_count": 12,
   "metadata": {},
   "outputs": [
    {
     "data": {
      "text/plain": [
       "<bound method DataFrame.info of      Gender              Event Location  Year Medal                   Name  \\\n",
       "0         M         10000M Men      Rio  2016     G          Mohamed FARAH   \n",
       "1         M         10000M Men      Rio  2016     S  Paul Kipngetich TANUI   \n",
       "2         M         10000M Men      Rio  2016     B           Tamirat TOLA   \n",
       "3         M         10000M Men  Beijing  2008     G        Kenenisa BEKELE   \n",
       "4         M         10000M Men  Beijing  2008     S         Sileshi SIHINE   \n",
       "...     ...                ...      ...   ...   ...                    ...   \n",
       "2377      W  Triple Jump Women   Athens  2004     S      Hrysopiyi DEVETZI   \n",
       "2378      W  Triple Jump Women   Athens  2004     B       Tatyana LEBEDEVA   \n",
       "2379      W  Triple Jump Women  Atlanta  1996     G         Inessa KRAVETS   \n",
       "2380      W  Triple Jump Women  Atlanta  1996     S        Inna LASOVSKAYA   \n",
       "2381      W  Triple Jump Women  Atlanta  1996     B       Sarka KASPARKOVA   \n",
       "\n",
       "     Nationality    Result  \n",
       "0            USA  25:05.17  \n",
       "1            KEN  27:05.64  \n",
       "2            ETH  27:06.26  \n",
       "3            ETH  27:01.17  \n",
       "4            ETH  27:02.77  \n",
       "...          ...       ...  \n",
       "2377         GRE     15.25  \n",
       "2378         RUS     15.14  \n",
       "2379         UKR     15.33  \n",
       "2380         RUS     14.98  \n",
       "2381         CZE     14.98  \n",
       "\n",
       "[2382 rows x 8 columns]>"
      ]
     },
     "execution_count": 12,
     "metadata": {},
     "output_type": "execute_result"
    }
   ],
   "source": [
    "df.info"
   ]
  },
  {
   "cell_type": "code",
   "execution_count": 13,
   "metadata": {},
   "outputs": [
    {
     "data": {
      "text/plain": [
       "Gender         object\n",
       "Event          object\n",
       "Location       object\n",
       "Year            int64\n",
       "Medal          object\n",
       "Name           object\n",
       "Nationality    object\n",
       "Result         object\n",
       "dtype: object"
      ]
     },
     "execution_count": 13,
     "metadata": {},
     "output_type": "execute_result"
    }
   ],
   "source": [
    "df.dtypes"
   ]
  },
  {
   "cell_type": "code",
   "execution_count": 14,
   "metadata": {},
   "outputs": [
    {
     "data": {
      "text/html": [
       "<div>\n",
       "<style scoped>\n",
       "    .dataframe tbody tr th:only-of-type {\n",
       "        vertical-align: middle;\n",
       "    }\n",
       "\n",
       "    .dataframe tbody tr th {\n",
       "        vertical-align: top;\n",
       "    }\n",
       "\n",
       "    .dataframe thead th {\n",
       "        text-align: right;\n",
       "    }\n",
       "</style>\n",
       "<table border=\"1\" class=\"dataframe\">\n",
       "  <thead>\n",
       "    <tr style=\"text-align: right;\">\n",
       "      <th></th>\n",
       "      <th>Gender</th>\n",
       "      <th>Event</th>\n",
       "      <th>Location</th>\n",
       "      <th>Year</th>\n",
       "      <th>Medal</th>\n",
       "      <th>Name</th>\n",
       "      <th>Nationality</th>\n",
       "      <th>Result</th>\n",
       "    </tr>\n",
       "  </thead>\n",
       "  <tbody>\n",
       "    <tr>\n",
       "      <th>4</th>\n",
       "      <td>M</td>\n",
       "      <td>10000M Men</td>\n",
       "      <td>Beijing</td>\n",
       "      <td>2008</td>\n",
       "      <td>S</td>\n",
       "      <td>Sileshi SIHINE</td>\n",
       "      <td>ETH</td>\n",
       "      <td>27:02.77</td>\n",
       "    </tr>\n",
       "    <tr>\n",
       "      <th>5</th>\n",
       "      <td>M</td>\n",
       "      <td>10000M Men</td>\n",
       "      <td>Beijing</td>\n",
       "      <td>2008</td>\n",
       "      <td>B</td>\n",
       "      <td>Micah KOGO</td>\n",
       "      <td>KEN</td>\n",
       "      <td>27:04.11</td>\n",
       "    </tr>\n",
       "    <tr>\n",
       "      <th>6</th>\n",
       "      <td>M</td>\n",
       "      <td>10000M Men</td>\n",
       "      <td>Sydney</td>\n",
       "      <td>2000</td>\n",
       "      <td>G</td>\n",
       "      <td>Haile GEBRSELASSIE</td>\n",
       "      <td>ETH</td>\n",
       "      <td>27:18.20</td>\n",
       "    </tr>\n",
       "    <tr>\n",
       "      <th>7</th>\n",
       "      <td>M</td>\n",
       "      <td>10000M Men</td>\n",
       "      <td>Sydney</td>\n",
       "      <td>2000</td>\n",
       "      <td>S</td>\n",
       "      <td>Paul TERGAT</td>\n",
       "      <td>KEN</td>\n",
       "      <td>27:18.29</td>\n",
       "    </tr>\n",
       "    <tr>\n",
       "      <th>8</th>\n",
       "      <td>M</td>\n",
       "      <td>10000M Men</td>\n",
       "      <td>Sydney</td>\n",
       "      <td>2000</td>\n",
       "      <td>B</td>\n",
       "      <td>Assefa MEZGEBU</td>\n",
       "      <td>ETH</td>\n",
       "      <td>27:19.75</td>\n",
       "    </tr>\n",
       "  </tbody>\n",
       "</table>\n",
       "</div>"
      ],
      "text/plain": [
       "  Gender       Event Location  Year Medal                Name Nationality  \\\n",
       "4      M  10000M Men  Beijing  2008     S      Sileshi SIHINE         ETH   \n",
       "5      M  10000M Men  Beijing  2008     B          Micah KOGO         KEN   \n",
       "6      M  10000M Men   Sydney  2000     G  Haile GEBRSELASSIE         ETH   \n",
       "7      M  10000M Men   Sydney  2000     S         Paul TERGAT         KEN   \n",
       "8      M  10000M Men   Sydney  2000     B      Assefa MEZGEBU         ETH   \n",
       "\n",
       "     Result  \n",
       "4  27:02.77  \n",
       "5  27:04.11  \n",
       "6  27:18.20  \n",
       "7  27:18.29  \n",
       "8  27:19.75  "
      ]
     },
     "execution_count": 14,
     "metadata": {},
     "output_type": "execute_result"
    }
   ],
   "source": [
    "df.iloc[4:9]"
   ]
  },
  {
   "cell_type": "code",
   "execution_count": 15,
   "metadata": {},
   "outputs": [
    {
     "data": {
      "text/html": [
       "<div>\n",
       "<style scoped>\n",
       "    .dataframe tbody tr th:only-of-type {\n",
       "        vertical-align: middle;\n",
       "    }\n",
       "\n",
       "    .dataframe tbody tr th {\n",
       "        vertical-align: top;\n",
       "    }\n",
       "\n",
       "    .dataframe thead th {\n",
       "        text-align: right;\n",
       "    }\n",
       "</style>\n",
       "<table border=\"1\" class=\"dataframe\">\n",
       "  <thead>\n",
       "    <tr style=\"text-align: right;\">\n",
       "      <th></th>\n",
       "      <th>Year</th>\n",
       "    </tr>\n",
       "  </thead>\n",
       "  <tbody>\n",
       "    <tr>\n",
       "      <th>0</th>\n",
       "      <td>2016</td>\n",
       "    </tr>\n",
       "    <tr>\n",
       "      <th>1</th>\n",
       "      <td>2016</td>\n",
       "    </tr>\n",
       "    <tr>\n",
       "      <th>2</th>\n",
       "      <td>2016</td>\n",
       "    </tr>\n",
       "    <tr>\n",
       "      <th>3</th>\n",
       "      <td>2008</td>\n",
       "    </tr>\n",
       "    <tr>\n",
       "      <th>4</th>\n",
       "      <td>2008</td>\n",
       "    </tr>\n",
       "    <tr>\n",
       "      <th>...</th>\n",
       "      <td>...</td>\n",
       "    </tr>\n",
       "    <tr>\n",
       "      <th>2377</th>\n",
       "      <td>2004</td>\n",
       "    </tr>\n",
       "    <tr>\n",
       "      <th>2378</th>\n",
       "      <td>2004</td>\n",
       "    </tr>\n",
       "    <tr>\n",
       "      <th>2379</th>\n",
       "      <td>1996</td>\n",
       "    </tr>\n",
       "    <tr>\n",
       "      <th>2380</th>\n",
       "      <td>1996</td>\n",
       "    </tr>\n",
       "    <tr>\n",
       "      <th>2381</th>\n",
       "      <td>1996</td>\n",
       "    </tr>\n",
       "  </tbody>\n",
       "</table>\n",
       "<p>2382 rows × 1 columns</p>\n",
       "</div>"
      ],
      "text/plain": [
       "      Year\n",
       "0     2016\n",
       "1     2016\n",
       "2     2016\n",
       "3     2008\n",
       "4     2008\n",
       "...    ...\n",
       "2377  2004\n",
       "2378  2004\n",
       "2379  1996\n",
       "2380  1996\n",
       "2381  1996\n",
       "\n",
       "[2382 rows x 1 columns]"
      ]
     },
     "execution_count": 15,
     "metadata": {},
     "output_type": "execute_result"
    }
   ],
   "source": [
    "df.iloc[:, 3:4]"
   ]
  },
  {
   "cell_type": "code",
   "execution_count": 16,
   "metadata": {
    "scrolled": true
   },
   "outputs": [
    {
     "name": "stdout",
     "output_type": "stream",
     "text": [
      "<class 'pandas.core.frame.DataFrame'>\n",
      "RangeIndex: 2382 entries, 0 to 2381\n",
      "Data columns (total 8 columns):\n",
      " #   Column       Non-Null Count  Dtype \n",
      "---  ------       --------------  ----- \n",
      " 0   Gender       2382 non-null   object\n",
      " 1   Event        2382 non-null   object\n",
      " 2   Location     2382 non-null   object\n",
      " 3   Year         2382 non-null   int64 \n",
      " 4   Medal        2382 non-null   object\n",
      " 5   Name         2152 non-null   object\n",
      " 6   Nationality  2382 non-null   object\n",
      " 7   Result       2382 non-null   object\n",
      "dtypes: int64(1), object(7)\n",
      "memory usage: 149.0+ KB\n"
     ]
    }
   ],
   "source": [
    "df.info()"
   ]
  },
  {
   "cell_type": "code",
   "execution_count": 17,
   "metadata": {},
   "outputs": [
    {
     "data": {
      "text/plain": [
       "RangeIndex(start=0, stop=2382, step=1)"
      ]
     },
     "execution_count": 17,
     "metadata": {},
     "output_type": "execute_result"
    }
   ],
   "source": [
    "df.index\n"
   ]
  },
  {
   "cell_type": "code",
   "execution_count": 17,
   "metadata": {},
   "outputs": [
    {
     "data": {
      "text/plain": [
       "Gender                       M\n",
       "Event               10000M Men\n",
       "Location               Beijing\n",
       "Year                      2008\n",
       "Medal                        G\n",
       "Name           Kenenisa BEKELE\n",
       "Nationality                ETH\n",
       "Result                27:01.17\n",
       "Name: 3, dtype: object"
      ]
     },
     "execution_count": 17,
     "metadata": {},
     "output_type": "execute_result"
    }
   ],
   "source": [
    "df.iloc[3]"
   ]
  },
  {
   "cell_type": "code",
   "execution_count": 18,
   "metadata": {},
   "outputs": [
    {
     "data": {
      "text/html": [
       "<div>\n",
       "<style scoped>\n",
       "    .dataframe tbody tr th:only-of-type {\n",
       "        vertical-align: middle;\n",
       "    }\n",
       "\n",
       "    .dataframe tbody tr th {\n",
       "        vertical-align: top;\n",
       "    }\n",
       "\n",
       "    .dataframe thead th {\n",
       "        text-align: right;\n",
       "    }\n",
       "</style>\n",
       "<table border=\"1\" class=\"dataframe\">\n",
       "  <thead>\n",
       "    <tr style=\"text-align: right;\">\n",
       "      <th></th>\n",
       "      <th>Location</th>\n",
       "      <th>Year</th>\n",
       "      <th>Medal</th>\n",
       "    </tr>\n",
       "  </thead>\n",
       "  <tbody>\n",
       "    <tr>\n",
       "      <th>3</th>\n",
       "      <td>Beijing</td>\n",
       "      <td>2008</td>\n",
       "      <td>G</td>\n",
       "    </tr>\n",
       "    <tr>\n",
       "      <th>4</th>\n",
       "      <td>Beijing</td>\n",
       "      <td>2008</td>\n",
       "      <td>S</td>\n",
       "    </tr>\n",
       "    <tr>\n",
       "      <th>5</th>\n",
       "      <td>Beijing</td>\n",
       "      <td>2008</td>\n",
       "      <td>B</td>\n",
       "    </tr>\n",
       "  </tbody>\n",
       "</table>\n",
       "</div>"
      ],
      "text/plain": [
       "  Location  Year Medal\n",
       "3  Beijing  2008     G\n",
       "4  Beijing  2008     S\n",
       "5  Beijing  2008     B"
      ]
     },
     "execution_count": 18,
     "metadata": {},
     "output_type": "execute_result"
    }
   ],
   "source": [
    "df.iloc[3:6, 2:5]"
   ]
  },
  {
   "cell_type": "code",
   "execution_count": 19,
   "metadata": {},
   "outputs": [
    {
     "data": {
      "text/plain": [
       "3    ETH\n",
       "4    ETH\n",
       "5    KEN\n",
       "6    ETH\n",
       "7    KEN\n",
       "Name: Nationality, dtype: object"
      ]
     },
     "execution_count": 19,
     "metadata": {},
     "output_type": "execute_result"
    }
   ],
   "source": [
    "df.loc [3:7, 'Nationality']"
   ]
  },
  {
   "cell_type": "code",
   "execution_count": 20,
   "metadata": {},
   "outputs": [
    {
     "data": {
      "text/html": [
       "<div>\n",
       "<style scoped>\n",
       "    .dataframe tbody tr th:only-of-type {\n",
       "        vertical-align: middle;\n",
       "    }\n",
       "\n",
       "    .dataframe tbody tr th {\n",
       "        vertical-align: top;\n",
       "    }\n",
       "\n",
       "    .dataframe thead th {\n",
       "        text-align: right;\n",
       "    }\n",
       "</style>\n",
       "<table border=\"1\" class=\"dataframe\">\n",
       "  <thead>\n",
       "    <tr style=\"text-align: right;\">\n",
       "      <th></th>\n",
       "      <th>Gender</th>\n",
       "      <th>Event</th>\n",
       "      <th>Location</th>\n",
       "      <th>Year</th>\n",
       "      <th>Medal</th>\n",
       "      <th>Name</th>\n",
       "      <th>Nationality</th>\n",
       "      <th>Result</th>\n",
       "    </tr>\n",
       "  </thead>\n",
       "  <tbody>\n",
       "    <tr>\n",
       "      <th>1</th>\n",
       "      <td>M</td>\n",
       "      <td>10000M Men</td>\n",
       "      <td>Rio</td>\n",
       "      <td>2016</td>\n",
       "      <td>S</td>\n",
       "      <td>Paul Kipngetich TANUI</td>\n",
       "      <td>KEN</td>\n",
       "      <td>27:05.64</td>\n",
       "    </tr>\n",
       "    <tr>\n",
       "      <th>5</th>\n",
       "      <td>M</td>\n",
       "      <td>10000M Men</td>\n",
       "      <td>Beijing</td>\n",
       "      <td>2008</td>\n",
       "      <td>B</td>\n",
       "      <td>Micah KOGO</td>\n",
       "      <td>KEN</td>\n",
       "      <td>27:04.11</td>\n",
       "    </tr>\n",
       "    <tr>\n",
       "      <th>7</th>\n",
       "      <td>M</td>\n",
       "      <td>10000M Men</td>\n",
       "      <td>Sydney</td>\n",
       "      <td>2000</td>\n",
       "      <td>S</td>\n",
       "      <td>Paul TERGAT</td>\n",
       "      <td>KEN</td>\n",
       "      <td>27:18.29</td>\n",
       "    </tr>\n",
       "    <tr>\n",
       "      <th>10</th>\n",
       "      <td>M</td>\n",
       "      <td>10000M Men</td>\n",
       "      <td>Barcelona</td>\n",
       "      <td>1992</td>\n",
       "      <td>S</td>\n",
       "      <td>Richard CHELIMO</td>\n",
       "      <td>KEN</td>\n",
       "      <td>27:47.72</td>\n",
       "    </tr>\n",
       "    <tr>\n",
       "      <th>14</th>\n",
       "      <td>M</td>\n",
       "      <td>10000M Men</td>\n",
       "      <td>Los Angeles</td>\n",
       "      <td>1984</td>\n",
       "      <td>B</td>\n",
       "      <td>Michael MUSYOKI</td>\n",
       "      <td>KEN</td>\n",
       "      <td>28:06.46</td>\n",
       "    </tr>\n",
       "    <tr>\n",
       "      <th>...</th>\n",
       "      <td>...</td>\n",
       "      <td>...</td>\n",
       "      <td>...</td>\n",
       "      <td>...</td>\n",
       "      <td>...</td>\n",
       "      <td>...</td>\n",
       "      <td>...</td>\n",
       "      <td>...</td>\n",
       "    </tr>\n",
       "    <tr>\n",
       "      <th>2283</th>\n",
       "      <td>W</td>\n",
       "      <td>Marathon Women</td>\n",
       "      <td>Rio</td>\n",
       "      <td>2016</td>\n",
       "      <td>G</td>\n",
       "      <td>Jemima Jelagat SUMGONG</td>\n",
       "      <td>KEN</td>\n",
       "      <td>2:24:04</td>\n",
       "    </tr>\n",
       "    <tr>\n",
       "      <th>2287</th>\n",
       "      <td>W</td>\n",
       "      <td>Marathon Women</td>\n",
       "      <td>Beijing</td>\n",
       "      <td>2008</td>\n",
       "      <td>S</td>\n",
       "      <td>Catherine NDEREBA</td>\n",
       "      <td>KEN</td>\n",
       "      <td>2h27:06</td>\n",
       "    </tr>\n",
       "    <tr>\n",
       "      <th>2291</th>\n",
       "      <td>W</td>\n",
       "      <td>Marathon Women</td>\n",
       "      <td>Sydney</td>\n",
       "      <td>2000</td>\n",
       "      <td>B</td>\n",
       "      <td>Joyce CHEPCHUMBA</td>\n",
       "      <td>KEN</td>\n",
       "      <td>02h24:45</td>\n",
       "    </tr>\n",
       "    <tr>\n",
       "      <th>2299</th>\n",
       "      <td>W</td>\n",
       "      <td>Marathon Women</td>\n",
       "      <td>London</td>\n",
       "      <td>2012</td>\n",
       "      <td>S</td>\n",
       "      <td>Priscah JEPTOO</td>\n",
       "      <td>KEN</td>\n",
       "      <td>2:23:12</td>\n",
       "    </tr>\n",
       "    <tr>\n",
       "      <th>2302</th>\n",
       "      <td>W</td>\n",
       "      <td>Marathon Women</td>\n",
       "      <td>Athens</td>\n",
       "      <td>2004</td>\n",
       "      <td>S</td>\n",
       "      <td>Catherine NDEREBA</td>\n",
       "      <td>KEN</td>\n",
       "      <td>2h26:32</td>\n",
       "    </tr>\n",
       "  </tbody>\n",
       "</table>\n",
       "<p>87 rows × 8 columns</p>\n",
       "</div>"
      ],
      "text/plain": [
       "     Gender           Event     Location  Year Medal                    Name  \\\n",
       "1         M      10000M Men          Rio  2016     S   Paul Kipngetich TANUI   \n",
       "5         M      10000M Men      Beijing  2008     B              Micah KOGO   \n",
       "7         M      10000M Men       Sydney  2000     S             Paul TERGAT   \n",
       "10        M      10000M Men    Barcelona  1992     S         Richard CHELIMO   \n",
       "14        M      10000M Men  Los Angeles  1984     B         Michael MUSYOKI   \n",
       "...     ...             ...          ...   ...   ...                     ...   \n",
       "2283      W  Marathon Women          Rio  2016     G  Jemima Jelagat SUMGONG   \n",
       "2287      W  Marathon Women      Beijing  2008     S       Catherine NDEREBA   \n",
       "2291      W  Marathon Women       Sydney  2000     B        Joyce CHEPCHUMBA   \n",
       "2299      W  Marathon Women       London  2012     S          Priscah JEPTOO   \n",
       "2302      W  Marathon Women       Athens  2004     S       Catherine NDEREBA   \n",
       "\n",
       "     Nationality    Result  \n",
       "1            KEN  27:05.64  \n",
       "5            KEN  27:04.11  \n",
       "7            KEN  27:18.29  \n",
       "10           KEN  27:47.72  \n",
       "14           KEN  28:06.46  \n",
       "...          ...       ...  \n",
       "2283         KEN   2:24:04  \n",
       "2287         KEN   2h27:06  \n",
       "2291         KEN  02h24:45  \n",
       "2299         KEN   2:23:12  \n",
       "2302         KEN   2h26:32  \n",
       "\n",
       "[87 rows x 8 columns]"
      ]
     },
     "execution_count": 20,
     "metadata": {},
     "output_type": "execute_result"
    }
   ],
   "source": [
    "df.loc[df['Nationality'] == 'KEN']"
   ]
  },
  {
   "cell_type": "code",
   "execution_count": 21,
   "metadata": {},
   "outputs": [
    {
     "data": {
      "text/plain": [
       "1       S\n",
       "5       B\n",
       "7       S\n",
       "10      S\n",
       "14      B\n",
       "       ..\n",
       "2283    G\n",
       "2287    S\n",
       "2291    B\n",
       "2299    S\n",
       "2302    S\n",
       "Name: Medal, Length: 87, dtype: object"
      ]
     },
     "execution_count": 21,
     "metadata": {},
     "output_type": "execute_result"
    }
   ],
   "source": [
    "df.loc[df['Nationality'] == 'KEN' , 'Medal']"
   ]
  },
  {
   "cell_type": "code",
   "execution_count": 22,
   "metadata": {},
   "outputs": [
    {
     "data": {
      "text/plain": [
       "0       USA\n",
       "1       KEN\n",
       "2       ETH\n",
       "3       ETH\n",
       "4       ETH\n",
       "       ... \n",
       "2377    GRE\n",
       "2378    RUS\n",
       "2379    UKR\n",
       "2380    RUS\n",
       "2381    CZE\n",
       "Name: Nationality, Length: 2382, dtype: object"
      ]
     },
     "execution_count": 22,
     "metadata": {},
     "output_type": "execute_result"
    }
   ],
   "source": [
    "Nation = df['Nationality']\n",
    "Nation"
   ]
  },
  {
   "cell_type": "code",
   "execution_count": 23,
   "metadata": {},
   "outputs": [
    {
     "data": {
      "text/plain": [
       "0    USA\n",
       "1    KEN\n",
       "2    ETH\n",
       "3    ETH\n",
       "4    ETH\n",
       "5    KEN\n",
       "6    ETH\n",
       "7    KEN\n",
       "8    ETH\n",
       "9    MAR\n",
       "Name: Nationality, dtype: object"
      ]
     },
     "execution_count": 23,
     "metadata": {},
     "output_type": "execute_result"
    }
   ],
   "source": [
    "Nation[0:10]"
   ]
  },
  {
   "cell_type": "code",
   "execution_count": 24,
   "metadata": {},
   "outputs": [
    {
     "data": {
      "text/plain": [
       "1       KEN\n",
       "5       KEN\n",
       "7       KEN\n",
       "10      KEN\n",
       "14      KEN\n",
       "       ... \n",
       "2283    KEN\n",
       "2287    KEN\n",
       "2291    KEN\n",
       "2299    KEN\n",
       "2302    KEN\n",
       "Name: Nationality, Length: 87, dtype: object"
      ]
     },
     "execution_count": 24,
     "metadata": {},
     "output_type": "execute_result"
    }
   ],
   "source": [
    "Nation.loc[Nation == 'KEN']"
   ]
  },
  {
   "cell_type": "code",
   "execution_count": 25,
   "metadata": {},
   "outputs": [
    {
     "data": {
      "text/html": [
       "<div>\n",
       "<style scoped>\n",
       "    .dataframe tbody tr th:only-of-type {\n",
       "        vertical-align: middle;\n",
       "    }\n",
       "\n",
       "    .dataframe tbody tr th {\n",
       "        vertical-align: top;\n",
       "    }\n",
       "\n",
       "    .dataframe thead th {\n",
       "        text-align: right;\n",
       "    }\n",
       "</style>\n",
       "<table border=\"1\" class=\"dataframe\">\n",
       "  <thead>\n",
       "    <tr style=\"text-align: right;\">\n",
       "      <th></th>\n",
       "      <th>Location</th>\n",
       "      <th>Year</th>\n",
       "    </tr>\n",
       "  </thead>\n",
       "  <tbody>\n",
       "    <tr>\n",
       "      <th>10</th>\n",
       "      <td>Barcelona</td>\n",
       "      <td>1992</td>\n",
       "    </tr>\n",
       "    <tr>\n",
       "      <th>11</th>\n",
       "      <td>Barcelona</td>\n",
       "      <td>1992</td>\n",
       "    </tr>\n",
       "    <tr>\n",
       "      <th>12</th>\n",
       "      <td>Los Angeles</td>\n",
       "      <td>1984</td>\n",
       "    </tr>\n",
       "    <tr>\n",
       "      <th>13</th>\n",
       "      <td>Los Angeles</td>\n",
       "      <td>1984</td>\n",
       "    </tr>\n",
       "    <tr>\n",
       "      <th>14</th>\n",
       "      <td>Los Angeles</td>\n",
       "      <td>1984</td>\n",
       "    </tr>\n",
       "    <tr>\n",
       "      <th>15</th>\n",
       "      <td>Montreal</td>\n",
       "      <td>1976</td>\n",
       "    </tr>\n",
       "    <tr>\n",
       "      <th>16</th>\n",
       "      <td>Montreal</td>\n",
       "      <td>1976</td>\n",
       "    </tr>\n",
       "    <tr>\n",
       "      <th>17</th>\n",
       "      <td>Montreal</td>\n",
       "      <td>1976</td>\n",
       "    </tr>\n",
       "    <tr>\n",
       "      <th>18</th>\n",
       "      <td>Mexico</td>\n",
       "      <td>1968</td>\n",
       "    </tr>\n",
       "    <tr>\n",
       "      <th>19</th>\n",
       "      <td>Mexico</td>\n",
       "      <td>1968</td>\n",
       "    </tr>\n",
       "    <tr>\n",
       "      <th>20</th>\n",
       "      <td>Mexico</td>\n",
       "      <td>1968</td>\n",
       "    </tr>\n",
       "    <tr>\n",
       "      <th>21</th>\n",
       "      <td>Rome</td>\n",
       "      <td>1960</td>\n",
       "    </tr>\n",
       "    <tr>\n",
       "      <th>22</th>\n",
       "      <td>Rome</td>\n",
       "      <td>1960</td>\n",
       "    </tr>\n",
       "    <tr>\n",
       "      <th>23</th>\n",
       "      <td>Rome</td>\n",
       "      <td>1960</td>\n",
       "    </tr>\n",
       "    <tr>\n",
       "      <th>24</th>\n",
       "      <td>Helsinki</td>\n",
       "      <td>1952</td>\n",
       "    </tr>\n",
       "    <tr>\n",
       "      <th>25</th>\n",
       "      <td>Helsinki</td>\n",
       "      <td>1952</td>\n",
       "    </tr>\n",
       "    <tr>\n",
       "      <th>26</th>\n",
       "      <td>Helsinki</td>\n",
       "      <td>1952</td>\n",
       "    </tr>\n",
       "    <tr>\n",
       "      <th>27</th>\n",
       "      <td>Berlin</td>\n",
       "      <td>1936</td>\n",
       "    </tr>\n",
       "    <tr>\n",
       "      <th>28</th>\n",
       "      <td>Berlin</td>\n",
       "      <td>1936</td>\n",
       "    </tr>\n",
       "    <tr>\n",
       "      <th>29</th>\n",
       "      <td>Berlin</td>\n",
       "      <td>1936</td>\n",
       "    </tr>\n",
       "    <tr>\n",
       "      <th>30</th>\n",
       "      <td>Amsterdam</td>\n",
       "      <td>1928</td>\n",
       "    </tr>\n",
       "    <tr>\n",
       "      <th>31</th>\n",
       "      <td>Amsterdam</td>\n",
       "      <td>1928</td>\n",
       "    </tr>\n",
       "  </tbody>\n",
       "</table>\n",
       "</div>"
      ],
      "text/plain": [
       "       Location  Year\n",
       "10    Barcelona  1992\n",
       "11    Barcelona  1992\n",
       "12  Los Angeles  1984\n",
       "13  Los Angeles  1984\n",
       "14  Los Angeles  1984\n",
       "15     Montreal  1976\n",
       "16     Montreal  1976\n",
       "17     Montreal  1976\n",
       "18       Mexico  1968\n",
       "19       Mexico  1968\n",
       "20       Mexico  1968\n",
       "21         Rome  1960\n",
       "22         Rome  1960\n",
       "23         Rome  1960\n",
       "24     Helsinki  1952\n",
       "25     Helsinki  1952\n",
       "26     Helsinki  1952\n",
       "27       Berlin  1936\n",
       "28       Berlin  1936\n",
       "29       Berlin  1936\n",
       "30    Amsterdam  1928\n",
       "31    Amsterdam  1928"
      ]
     },
     "execution_count": 25,
     "metadata": {},
     "output_type": "execute_result"
    }
   ],
   "source": [
    "df.iloc[10:32][['Location','Year']]"
   ]
  },
  {
   "cell_type": "code",
   "execution_count": 26,
   "metadata": {},
   "outputs": [
    {
     "name": "stdout",
     "output_type": "stream",
     "text": [
      "<class 'pandas.core.frame.DataFrame'>\n",
      "RangeIndex: 2382 entries, 0 to 2381\n",
      "Data columns (total 8 columns):\n",
      " #   Column       Non-Null Count  Dtype \n",
      "---  ------       --------------  ----- \n",
      " 0   Gender       2382 non-null   object\n",
      " 1   Event        2382 non-null   object\n",
      " 2   Location     2382 non-null   object\n",
      " 3   Year         2382 non-null   int64 \n",
      " 4   Medal        2382 non-null   object\n",
      " 5   Name         2152 non-null   object\n",
      " 6   Nationality  2382 non-null   object\n",
      " 7   Result       2382 non-null   object\n",
      "dtypes: int64(1), object(7)\n",
      "memory usage: 149.0+ KB\n"
     ]
    }
   ],
   "source": [
    "df.info()"
   ]
  },
  {
   "cell_type": "code",
   "execution_count": 27,
   "metadata": {},
   "outputs": [
    {
     "data": {
      "text/html": [
       "<div>\n",
       "<style scoped>\n",
       "    .dataframe tbody tr th:only-of-type {\n",
       "        vertical-align: middle;\n",
       "    }\n",
       "\n",
       "    .dataframe tbody tr th {\n",
       "        vertical-align: top;\n",
       "    }\n",
       "\n",
       "    .dataframe thead th {\n",
       "        text-align: right;\n",
       "    }\n",
       "</style>\n",
       "<table border=\"1\" class=\"dataframe\">\n",
       "  <thead>\n",
       "    <tr style=\"text-align: right;\">\n",
       "      <th></th>\n",
       "      <th>Year</th>\n",
       "    </tr>\n",
       "  </thead>\n",
       "  <tbody>\n",
       "    <tr>\n",
       "      <th>count</th>\n",
       "      <td>2382.000000</td>\n",
       "    </tr>\n",
       "    <tr>\n",
       "      <th>mean</th>\n",
       "      <td>1970.189757</td>\n",
       "    </tr>\n",
       "    <tr>\n",
       "      <th>std</th>\n",
       "      <td>34.695981</td>\n",
       "    </tr>\n",
       "    <tr>\n",
       "      <th>min</th>\n",
       "      <td>1896.000000</td>\n",
       "    </tr>\n",
       "    <tr>\n",
       "      <th>25%</th>\n",
       "      <td>1948.000000</td>\n",
       "    </tr>\n",
       "    <tr>\n",
       "      <th>50%</th>\n",
       "      <td>1976.000000</td>\n",
       "    </tr>\n",
       "    <tr>\n",
       "      <th>75%</th>\n",
       "      <td>2000.000000</td>\n",
       "    </tr>\n",
       "    <tr>\n",
       "      <th>max</th>\n",
       "      <td>2016.000000</td>\n",
       "    </tr>\n",
       "  </tbody>\n",
       "</table>\n",
       "</div>"
      ],
      "text/plain": [
       "              Year\n",
       "count  2382.000000\n",
       "mean   1970.189757\n",
       "std      34.695981\n",
       "min    1896.000000\n",
       "25%    1948.000000\n",
       "50%    1976.000000\n",
       "75%    2000.000000\n",
       "max    2016.000000"
      ]
     },
     "execution_count": 27,
     "metadata": {},
     "output_type": "execute_result"
    }
   ],
   "source": [
    "df.describe()"
   ]
  },
  {
   "cell_type": "code",
   "execution_count": 28,
   "metadata": {},
   "outputs": [
    {
     "data": {
      "text/plain": [
       "Year    1970.189757\n",
       "dtype: float64"
      ]
     },
     "execution_count": 28,
     "metadata": {},
     "output_type": "execute_result"
    }
   ],
   "source": [
    "df.mean()"
   ]
  },
  {
   "cell_type": "code",
   "execution_count": 30,
   "metadata": {},
   "outputs": [
    {
     "data": {
      "text/plain": [
       "2012.0"
      ]
     },
     "execution_count": 30,
     "metadata": {},
     "output_type": "execute_result"
    }
   ],
   "source": [
    "df['Year'].quantile(.9)"
   ]
  },
  {
   "cell_type": "code",
   "execution_count": 31,
   "metadata": {},
   "outputs": [
    {
     "data": {
      "text/plain": [
       "array(['M', 'W'], dtype=object)"
      ]
     },
     "execution_count": 31,
     "metadata": {},
     "output_type": "execute_result"
    }
   ],
   "source": [
    "df['Gender'].unique()"
   ]
  },
  {
   "cell_type": "code",
   "execution_count": 32,
   "metadata": {},
   "outputs": [
    {
     "data": {
      "text/plain": [
       "M    1626\n",
       "W     756\n",
       "Name: Gender, dtype: int64"
      ]
     },
     "execution_count": 32,
     "metadata": {},
     "output_type": "execute_result"
    }
   ],
   "source": [
    "df['Gender'].value_counts()"
   ]
  },
  {
   "cell_type": "code",
   "execution_count": 33,
   "metadata": {},
   "outputs": [
    {
     "data": {
      "text/plain": [
       "2016    141\n",
       "2000    140\n",
       "2012    138\n",
       "2004    136\n",
       "1996    130\n",
       "1992    125\n",
       "2008    116\n",
       "1980    111\n",
       "1964    102\n",
       "1960     99\n",
       "1984     97\n",
       "1976     96\n",
       "1952     93\n",
       "1932     84\n",
       "1972     81\n",
       "1968     75\n",
       "1936     66\n",
       "1924     66\n",
       "1948     63\n",
       "1912     63\n",
       "1956     58\n",
       "1928     57\n",
       "1908     52\n",
       "1904     51\n",
       "1900     45\n",
       "1920     42\n",
       "1896     37\n",
       "1988     18\n",
       "Name: Year, dtype: int64"
      ]
     },
     "execution_count": 33,
     "metadata": {},
     "output_type": "execute_result"
    }
   ],
   "source": [
    "df['Year'].value_counts()"
   ]
  },
  {
   "cell_type": "code",
   "execution_count": null,
   "metadata": {},
   "outputs": [],
   "source": []
  }
 ],
 "metadata": {
  "kernelspec": {
   "display_name": "Python (learn-env)",
   "language": "python",
   "name": "learn-env"
  },
  "language_info": {
   "codemirror_mode": {
    "name": "ipython",
    "version": 3
   },
   "file_extension": ".py",
   "mimetype": "text/x-python",
   "name": "python",
   "nbconvert_exporter": "python",
   "pygments_lexer": "ipython3",
   "version": "3.8.5"
  }
 },
 "nbformat": 4,
 "nbformat_minor": 4
}
